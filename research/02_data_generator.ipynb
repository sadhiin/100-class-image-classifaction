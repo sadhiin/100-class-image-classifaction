{
 "cells": [
  {
   "cell_type": "code",
   "execution_count": 1,
   "metadata": {},
   "outputs": [
    {
     "name": "stdout",
     "output_type": "stream",
     "text": [
      "/teamspace/studios/this_studio\n"
     ]
    }
   ],
   "source": [
    "# this stage is responsible for processing the data\n",
    "# pre-requsite is the data should be downloaded... locally.\n",
    "!pwd"
   ]
  },
  {
   "cell_type": "code",
   "execution_count": 2,
   "metadata": {},
   "outputs": [],
   "source": [
    "import os\n",
    "os.chdir(\"100-class-image-classifaction\")"
   ]
  },
  {
   "cell_type": "code",
   "execution_count": 6,
   "metadata": {},
   "outputs": [],
   "source": [
    "from dataclasses import dataclass\n",
    "from pathlib import Path\n",
    "\n",
    "@dataclass(frozen=True)\n",
    "class PreprocessConfig:\n",
    "    path: str\n",
    "    rescale: float\n",
    "    shear_range: float\n",
    "    zoom_range: float\n",
    "    width_shift_range: float\n",
    "    height_shift_range: float\n",
    "    horizontal_flip: bool\n",
    "    validation_split: float\n",
    "    fill_mode: str\n",
    "    batch_size: int"
   ]
  },
  {
   "cell_type": "code",
   "execution_count": 7,
   "metadata": {},
   "outputs": [],
   "source": [
    "from src.LCIC.constants import *\n",
    "from src.LCIC.utils.common import read_yaml, create_directories\n"
   ]
  },
  {
   "cell_type": "code",
   "execution_count": 8,
   "metadata": {},
   "outputs": [],
   "source": [
    "class ConfigurationManager:\n",
    "    def __init__(self, \n",
    "            config_path: Path = CONFIG_FILE_PATH, \n",
    "            params_path: Path = PARAMS_FILE_PATH):\n",
    "        self.config = read_yaml(config_path)\n",
    "        self.params = read_yaml(params_path)\n",
    "\n",
    "    def get_preprocess_config()->PreprocessConfig:\n",
    "        \n",
    "        preprocessed_cfg = self.config.data_preporcess\n",
    "\n",
    "        logger.info(f\"Preprocessing configurations: ---> {preprocessed_cfg}\")\n",
    "        _cfg=PreprocessConfig(\n",
    "            path= self.config.data_ingestion.local_data_file  # locally downloade data path\n",
    "            rescale= preprocessed_cfg.rescale,\n",
    "            shear_range= preprocessed_cfg.shear_range,\n",
    "            zoom_range= preprocessed_cfg.zoom_range,\n",
    "            width_shift_range= preprocessed_cfg.width_shift_range,\n",
    "            height_shift_range= preprocessed_cfg.height_shift_range,\n",
    "            horizontal_flip= preprocessed_cfg.horizontal_flip,\n",
    "            validation_split= preprocessed_cfg.validation_split,\n",
    "            fill_mode= preprocessed_cfg.fill_mode,\n",
    "            batch_size= preprocessed_cfg.batch_size\n",
    "        )\n",
    "        return _cfg"
   ]
  },
  {
   "cell_type": "code",
   "execution_count": 9,
   "metadata": {},
   "outputs": [],
   "source": [
    "import tensorflow as tf\n",
    "from tensorflow.keras.preprocessing.image import ImageDataGenerator"
   ]
  },
  {
   "cell_type": "code",
   "execution_count": null,
   "metadata": {},
   "outputs": [],
   "source": [
    "class DataPreprocessing():\n",
    "    def __init__(slef, config: PreprocessConfig, params_path: Path = PARAMS_FILE_PATH):\n",
    "        self.config = config\n",
    "        self.params = read_yaml(params_path)\n",
    "        \n",
    "    def __generator(self)->:\n",
    "        _train_datagen = ImageDataGenerator(\n",
    "            rescale= self.config.rescale,\n",
    "            shear_range= self.config.shear_range,\n",
    "            zoom_range= self.config.zoom_range,\n",
    "            width_shift_range= self.config.width_shift_range,\n",
    "            height_shift_range= self.config.height_shift_range,\n",
    "            horizontal_flip= self.config.horizontal_flip,\n",
    "            validation_split= self.config.validation_split,\n",
    "            fill_mode= self.config.fill_mode,\n",
    "            batch_size= self.config.batch_size\n",
    "        )\n",
    "        \n",
    "        _test_datagen = ImageDataGenerator(\n",
    "            rescale=1./255)\n",
    "\n",
    "        return _train_datagen, _test_datagen\n",
    "\n",
    "    def get_train_and_valid_set():\n",
    "        train_datagen, val_datagen = self.__generator()\n",
    "        \n",
    "        training_set = train_datagen.flow_from_directory(\n",
    "        directory= self.config.path,\n",
    "        target_size=[],\n",
    "        color_mode='rgb',\n",
    "        classes=None,\n",
    "        class_mode='categorical',\n",
    "        batch_size=32,\n",
    "        shuffle=True,\n",
    "        seed=None,\n",
    "        save_to_dir=None,\n",
    "        save_prefix='',\n",
    "        save_format='png',\n",
    "        follow_links=False,\n",
    "        subset=None,\n",
    "        interpolation='nearest',\n",
    "        keep_aspect_ratio=False\n",
    "        subset=\"training\"\n",
    "        )\n",
    "\n",
    "        validation_set = val_datagen.flow_from_directory(\n",
    "            \n",
    "        )\n",
    "\n",
    "        return training_set, validation_set "
   ]
  }
 ],
 "metadata": {
  "kernelspec": {
   "display_name": "Python 3",
   "language": "python",
   "name": "python3"
  },
  "language_info": {
   "codemirror_mode": {
    "name": "ipython",
    "version": 3
   },
   "file_extension": ".py",
   "mimetype": "text/x-python",
   "name": "python",
   "nbconvert_exporter": "python",
   "pygments_lexer": "ipython3",
   "version": "3.10.10"
  },
  "orig_nbformat": 4
 },
 "nbformat": 4,
 "nbformat_minor": 2
}
