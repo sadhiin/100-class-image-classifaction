{
 "cells": [
  {
   "cell_type": "code",
   "execution_count": 1,
   "metadata": {},
   "outputs": [
    {
     "data": {
      "text/plain": [
       "'/teamspace/studios/this_studio'"
      ]
     },
     "execution_count": 1,
     "metadata": {},
     "output_type": "execute_result"
    }
   ],
   "source": [
    "import os\n",
    "os.getcwd()"
   ]
  },
  {
   "cell_type": "code",
   "execution_count": 2,
   "metadata": {},
   "outputs": [],
   "source": [
    "os.chdir(\"100-class-image-classifaction\")"
   ]
  },
  {
   "cell_type": "code",
   "execution_count": 3,
   "metadata": {},
   "outputs": [],
   "source": [
    "from dataclasses import dataclass\n",
    "from pathlib import Path\n",
    "\n",
    "@dataclass(frozen=True)\n",
    "class EvaluationConfig:\n",
    "    model_name: str\n",
    "    model_path: Path\n",
    "    dataset_path: Path\n",
    "    all_params: dict\n",
    "    mlflow_uri: str\n",
    "    params_image_size: list\n",
    "    params_batch_size: int"
   ]
  },
  {
   "cell_type": "code",
   "execution_count": 4,
   "metadata": {},
   "outputs": [
    {
     "name": "stderr",
     "output_type": "stream",
     "text": [
      "2024-01-13 09:52:25.719462: I tensorflow/tsl/cuda/cudart_stub.cc:28] Could not find cuda drivers on your machine, GPU will not be used.\n",
      "2024-01-13 09:52:25.812539: I tensorflow/tsl/cuda/cudart_stub.cc:28] Could not find cuda drivers on your machine, GPU will not be used.\n",
      "2024-01-13 09:52:25.815618: I tensorflow/core/platform/cpu_feature_guard.cc:182] This TensorFlow binary is optimized to use available CPU instructions in performance-critical operations.\n",
      "To enable the following instructions: AVX2 AVX512F FMA, in other operations, rebuild TensorFlow with the appropriate compiler flags.\n",
      "2024-01-13 09:52:27.482520: W tensorflow/compiler/tf2tensorrt/utils/py_utils.cc:38] TF-TRT Warning: Could not find TensorRT\n"
     ]
    },
    {
     "data": {
      "text/plain": [
       "'2.13.0'"
      ]
     },
     "execution_count": 4,
     "metadata": {},
     "output_type": "execute_result"
    }
   ],
   "source": [
    "import os\n",
    "import tensorflow as tf\n",
    "from LCIC.constants import *\n",
    "from LCIC.utils.common import read_yaml, save_json, create_directories\n",
    "tf.__version__"
   ]
  },
  {
   "cell_type": "code",
   "execution_count": 8,
   "metadata": {},
   "outputs": [],
   "source": [
    "class EvalConfigurationManager:\n",
    "    def __init__(self, \n",
    "                config_filepath= CONFIG_FILE_PATH, \n",
    "                params_file_path=PARAMS_FILE_PATH):\n",
    "                \n",
    "        self.config = read_yaml(config_filepath)\n",
    "        self.params = read_yaml(params_file_path)\n",
    "            \n",
    "\n",
    "    def get_evaluation_config(self)->EvaluationConfig:\n",
    "\n",
    "        self.config= self.config.model_eval\n",
    "        self.params = self.params[self.config.model_name]\n",
    "        \n",
    "        eval_cfg= EvaluationConfig(\n",
    "            model_name= self.config.model_name,\n",
    "            model_path= self.config.model_path,\n",
    "            dataset_path= self.config.model_path,\n",
    "            all_params= self.params,\n",
    "            mlflow_uri= self.config.mlflow_uri,\n",
    "            params_image_size= self.params.IMAGE_SIZE,\n",
    "            params_batch_size= self.params.BATCH_SIZE\n",
    "        )\n",
    "\n",
    "        return eval_cfg"
   ]
  },
  {
   "cell_type": "code",
   "execution_count": 9,
   "metadata": {},
   "outputs": [],
   "source": [
    "class EvaluationDataPreprocessing():\n",
    "    def __init__(self,\n",
    "                config: EvalConfigurationManager,\n",
    "                params_path: Path = PARAMS_FILE_PATH):\n",
    "        self.config = config\n",
    "        self.params = read_yaml(params_path)\n",
    "        # setting the params for to have the target size and classes of the model\n",
    "        self.params = self.params[self.config.model_name]\n",
    "\n",
    "        self.test_dataset = None\n",
    "\n",
    "    def __generator(self):\n",
    "        _test_datagen = ImageDataGenerator(rescale=1./255)\n",
    "        return _test_datagen\n",
    "\n",
    "    def get_test_data_set(self):\n",
    "        test_generator = self.__generator()\n",
    "\n",
    "        test_set = test_gen.flow_from_directory(\n",
    "            directory=Path.joinpath(self.config.dataset_path, 'test'),\n",
    "            target_size=self.params.IMAGE_SIZE[:-1],\n",
    "            color_mode='rgb',\n",
    "            class_mode='categorical',\n",
    "            batch_size=self.config.batch_size,\n",
    "        )\n",
    "\n",
    "        self.test_dataset = test_set \n",
    "        return self.test_dataset"
   ]
  },
  {
   "cell_type": "code",
   "execution_count": null,
   "metadata": {},
   "outputs": [],
   "source": [
    "class ModelEvaluation:\n",
    "    def __init__(self, config: EvalConfigurationManager):\n",
    "        self.config = config\n",
    "        self.test_data = EvaluationDataPreprocessing(config=self.config).get_test_data_set()\n",
    "        self.model = None\n",
    "        self.score = None\n",
    "\n",
    "    @staticmethod\n",
    "    def load_model(path: Path) -> tf.keras.Model:\n",
    "        return tf.keras.models.load_model(path)\n",
    "    \n",
    "    def save_score(self):\n",
    "        scores = {'loss': self.score[0], 'accuracy': self.score[1]}\n",
    "        save_json(path=Path('reports/score.json'), data= scores)\n",
    "    \n",
    "    def evaluation(self):\n",
    "        self.model = self.load_model(self.config.model_path)\n",
    "        self.score = model.evaluate(self.test_data, batch_size=self.config.batch_size, verbose=1)\n",
    "        self.save_score()\n",
    "\n",
    "    def log_into_mlflow(self):\n",
    "        mlflow.set_registry_uri(self.config.mlflow_uri)\n",
    "        tracking_url_type_store = urlparse(mlflow.get_tracking_uri()).scheme\n",
    "\n",
    "        with mlflow.start_run():\n",
    "            print(self.config.all_params)\n",
    "            mlflow.log_params(self.config.all_params)\n",
    "            mlflow.log_metrics({'loss': self.score[0], 'accuracy':self.score[1]})\n",
    "\n",
    "            # model registry\n",
    "            if tracking_url_type_store != 'file':\n",
    "                # register the model\n",
    "                # There are other ways to use the model registry, which depends on the user case,\n",
    "                # please refer to the doc for more information:\n",
    "                # at https://mlflow.org/docs/latest/model-registry.html#api-workflow\n",
    "                mlflow.keras.log_model(self.model, 'model', registered_model_name=str(self.config.model_name))\n",
    "            else:\n",
    "                mlflow.keras.log_model(self.model, \"model\")"
   ]
  },
  {
   "cell_type": "code",
   "execution_count": null,
   "metadata": {},
   "outputs": [],
   "source": [
    "# Model.evaluate(\n",
    "#     x=None,\n",
    "#     y=None,\n",
    "#     batch_size=None,\n",
    "#     verbose=\"auto\",\n",
    "#     sample_weight=None,\n",
    "#     steps=None,\n",
    "#     callbacks=None,\n",
    "#     return_dict=False,\n",
    "#     **kwargs\n",
    "# )"
   ]
  },
  {
   "cell_type": "code",
   "execution_count": null,
   "metadata": {},
   "outputs": [],
   "source": [
    "# CallbackList = [\n",
    "#         ModelCheckpoint(model_path, monitor='val_accuracy', verbose=1,save_weights_only=True, save_best_only=True, mode='max'),\n",
    "#         ReduceLROnPlateau(monitor='val_loss', factor=0.1, patience=5, min_lr=1e-7, verbose=1),\n",
    "#         EarlyStopping(monitor='val_loss', patience=5, mode=\"min\", restore_best_weights=False),\n",
    "#         CSVLogger(csv_path),\n",
    "#         TensorBoard(log_dir=TB_log_dir, histogram_freq=1),\n",
    "#         PlotLossesKeras()\n",
    "#     ]"
   ]
  },
  {
   "cell_type": "code",
   "execution_count": null,
   "metadata": {},
   "outputs": [],
   "source": []
  }
 ],
 "metadata": {
  "kernelspec": {
   "display_name": "venv",
   "language": "python",
   "name": "python3"
  },
  "language_info": {
   "codemirror_mode": {
    "name": "ipython",
    "version": 3
   },
   "file_extension": ".py",
   "mimetype": "text/x-python",
   "name": "python",
   "nbconvert_exporter": "python",
   "pygments_lexer": "ipython3",
   "version": "3.10.10"
  }
 },
 "nbformat": 4,
 "nbformat_minor": 2
}
