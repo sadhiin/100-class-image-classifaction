{
  "nbformat": 4,
  "nbformat_minor": 0,
  "metadata": {
    "colab": {
      "provenance": [],
      "authorship_tag": "ABX9TyPx5tO+SrOMBtDp54R4NP2f",
      "include_colab_link": true
    },
    "kernelspec": {
      "name": "python3",
      "display_name": "Python 3"
    },
    "language_info": {
      "name": "python"
    }
  },
  "cells": [
    {
      "cell_type": "markdown",
      "metadata": {
        "id": "view-in-github",
        "colab_type": "text"
      },
      "source": [
        "<a href=\"https://colab.research.google.com/github/sadhiin/100-class-image-classifiaction/blob/main/02_Gradient_calculation.ipynb\" target=\"_parent\"><img src=\"https://colab.research.google.com/assets/colab-badge.svg\" alt=\"Open In Colab\"/></a>"
      ]
    },
    {
      "cell_type": "code",
      "execution_count": 1,
      "metadata": {
        "id": "iKAbOVdyAkVP"
      },
      "outputs": [],
      "source": [
        "import torch"
      ]
    },
    {
      "cell_type": "code",
      "source": [
        "x = torch.randn(3, requires_grad=True)\n",
        "print(x)"
      ],
      "metadata": {
        "colab": {
          "base_uri": "https://localhost:8080/"
        },
        "id": "C0aj5qmuAtFi",
        "outputId": "f3f4c059-180d-469c-9ef4-3cf2f722bef1"
      },
      "execution_count": 3,
      "outputs": [
        {
          "output_type": "stream",
          "name": "stdout",
          "text": [
            "tensor([0.3615, 1.5739, 0.9097], requires_grad=True)\n"
          ]
        }
      ]
    },
    {
      "cell_type": "code",
      "source": [
        "y = x + 2\n",
        "print(\"y: \", y)\n",
        "\n",
        "z = y*y*2\n",
        "z = z.mean()\n",
        "print(\"z:\",z)\n",
        "z.backward()  # calculating gradients\n",
        "print(\"x:\", x.grad)"
      ],
      "metadata": {
        "colab": {
          "base_uri": "https://localhost:8080/"
        },
        "id": "8_623o3_AtCm",
        "outputId": "86c6c658-fe88-4af1-a43b-c8ec20f71b29"
      },
      "execution_count": 8,
      "outputs": [
        {
          "output_type": "stream",
          "name": "stdout",
          "text": [
            "y:  tensor([2.3615, 3.5739, 2.9097], grad_fn=<AddBackward0>)\n",
            "z: tensor(17.8770, grad_fn=<MeanBackward0>)\n",
            "x: tensor([12.5947, 19.0608, 15.5181])\n"
          ]
        }
      ]
    },
    {
      "cell_type": "code",
      "source": [
        "z = y*x*2\n",
        "# z = z.mean()\n",
        "print(\"z:\",z)\n",
        "v = torch.tensor([0.1, 0.8, 0.1], dtype=torch.float32)\n",
        "z.backward(v)\n",
        "print(\"x grad:\", x.grad)"
      ],
      "metadata": {
        "colab": {
          "base_uri": "https://localhost:8080/"
        },
        "id": "e3yw6U_mAs90",
        "outputId": "28d61468-8847-4eda-95db-78036a992d31"
      },
      "execution_count": 14,
      "outputs": [
        {
          "output_type": "stream",
          "name": "stdout",
          "text": [
            "z: tensor([ 1.7074, 11.2499,  5.2935], grad_fn=<MulBackward0>)\n",
            "x grad: tensor([15.5731, 58.4066, 19.3736])\n"
          ]
        }
      ]
    },
    {
      "cell_type": "code",
      "source": [
        "x = torch.randn(3, requires_grad=True)\n",
        "print(x)"
      ],
      "metadata": {
        "colab": {
          "base_uri": "https://localhost:8080/"
        },
        "id": "Q--1r2RcAs7D",
        "outputId": "b3ab2467-2188-4fac-e32f-302c59077441"
      },
      "execution_count": 15,
      "outputs": [
        {
          "output_type": "stream",
          "name": "stdout",
          "text": [
            "tensor([ 0.8583,  1.4368, -0.5261], requires_grad=True)\n"
          ]
        }
      ]
    },
    {
      "cell_type": "code",
      "source": [
        "# x.requires_grad_(False)\n",
        "# x.detach() # this will create a new tensor that doesn't requird gradient\n",
        "# with torch.no_grad():"
      ],
      "metadata": {
        "id": "Qk1gDg3fAs34"
      },
      "execution_count": 16,
      "outputs": []
    },
    {
      "cell_type": "code",
      "source": [
        "x.requires_grad_(False)\n",
        "print(x)"
      ],
      "metadata": {
        "colab": {
          "base_uri": "https://localhost:8080/"
        },
        "id": "U0QOrkXcDdnh",
        "outputId": "62ba1a99-8200-4a91-85d3-bb6075799c8e"
      },
      "execution_count": 18,
      "outputs": [
        {
          "output_type": "stream",
          "name": "stdout",
          "text": [
            "tensor([ 0.8583,  1.4368, -0.5261])\n"
          ]
        }
      ]
    },
    {
      "cell_type": "code",
      "source": [
        "x = torch.rand(3, requires_grad=True)\n",
        "print(\"X:\",x)\n",
        "y = x.detach()\n",
        "print('Y:', y)"
      ],
      "metadata": {
        "colab": {
          "base_uri": "https://localhost:8080/"
        },
        "id": "dYcvDQwhDhnj",
        "outputId": "dd838e95-d052-400e-978b-30f66ea88b3b"
      },
      "execution_count": 21,
      "outputs": [
        {
          "output_type": "stream",
          "name": "stdout",
          "text": [
            "X: tensor([0.3986, 0.4943, 0.4591], requires_grad=True)\n",
            "Y: tensor([0.3986, 0.4943, 0.4591])\n"
          ]
        }
      ]
    },
    {
      "cell_type": "code",
      "source": [
        "x = torch.rand(3, requires_grad=True)\n",
        "print(\"x: \", x)\n",
        "with torch.no_grad():\n",
        "  y = x+2\n",
        "  print(\"Y: \",y)"
      ],
      "metadata": {
        "colab": {
          "base_uri": "https://localhost:8080/"
        },
        "id": "lc8nBlVeDq3w",
        "outputId": "7c0f7c76-b4c6-4ff9-a530-103531982b18"
      },
      "execution_count": 22,
      "outputs": [
        {
          "output_type": "stream",
          "name": "stdout",
          "text": [
            "x:  tensor([0.1141, 0.9899, 0.0664], requires_grad=True)\n",
            "Y:  tensor([2.1141, 2.9899, 2.0664])\n"
          ]
        }
      ]
    },
    {
      "cell_type": "code",
      "source": [],
      "metadata": {
        "id": "LYElrb4gD_ti"
      },
      "execution_count": null,
      "outputs": []
    },
    {
      "cell_type": "markdown",
      "source": [
        "### Carefull"
      ],
      "metadata": {
        "id": "WxJAleqsEHML"
      }
    },
    {
      "cell_type": "code",
      "source": [
        "weights = torch.ones(4, requires_grad=True)\n",
        "for epoch in range(3):\n",
        "  model_output = (weights*3).sum()\n",
        "  model_output.backward()\n",
        "  print(weights.grad)"
      ],
      "metadata": {
        "colab": {
          "base_uri": "https://localhost:8080/"
        },
        "id": "KvVTLOFTEJG7",
        "outputId": "6f35a438-25e0-4276-9022-64faa36389a7"
      },
      "execution_count": 24,
      "outputs": [
        {
          "output_type": "stream",
          "name": "stdout",
          "text": [
            "tensor([3., 3., 3., 3.])\n",
            "tensor([6., 6., 6., 6.])\n",
            "tensor([9., 9., 9., 9.])\n"
          ]
        }
      ]
    },
    {
      "cell_type": "code",
      "source": [
        "weights = torch.ones(4, requires_grad=True)\n",
        "for epoch in range(3):\n",
        "  model_output = (weights*3).sum()\n",
        "  model_output.backward()\n",
        "  print(weights.grad)\n",
        "  weights.grad.zero_()"
      ],
      "metadata": {
        "colab": {
          "base_uri": "https://localhost:8080/"
        },
        "id": "BF4egkRqEeDj",
        "outputId": "592a3802-cdea-4faa-e2c6-41e6b3250aec"
      },
      "execution_count": 25,
      "outputs": [
        {
          "output_type": "stream",
          "name": "stdout",
          "text": [
            "tensor([3., 3., 3., 3.])\n",
            "tensor([3., 3., 3., 3.])\n",
            "tensor([3., 3., 3., 3.])\n"
          ]
        }
      ]
    },
    {
      "cell_type": "code",
      "source": [],
      "metadata": {
        "id": "t8UCYthAEsen"
      },
      "execution_count": null,
      "outputs": []
    },
    {
      "cell_type": "code",
      "source": [],
      "metadata": {
        "id": "kac2FrMBE5x9"
      },
      "execution_count": null,
      "outputs": []
    }
  ]
}